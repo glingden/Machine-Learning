{
 "cells": [
  {
   "cell_type": "markdown",
   "metadata": {},
   "source": [
    "### K-NN from Scratch:\n",
    "In this jupyter notebook, KNN(K-Nearest Neighbours) classifier is developed from scratch:\n",
    "The script is  tested with the Cifar-10 dataset: Cifar10 Dataset(Python version), Link: https://www.cs.toronto.edu/~kriz/cifar.html <br>\n",
    "Results: <br>\n",
    "&emsp; &emsp; &emsp; &emsp;   With out data standardized: L1 (38.59%) and L2 (35.39%)<br>\n",
    "&emsp; &emsp; &emsp; &emsp;   With data standardized: l1 (45.46%) and l2 ( 42.26%)<br>"
   ]
  },
  {
   "cell_type": "code",
   "execution_count": 1,
   "metadata": {},
   "outputs": [],
   "source": [
    "# Import Packages\n",
    "import pickle\n",
    "import numpy as np\n",
    "import time\n",
    "import glob\n",
    "import matplotlib.pyplot as plt\n",
    "from random import random\n",
    "from scipy import stats\n",
    "from scipy.stats import zscore\n",
    "from scipy.spatial import distance\n"
   ]
  },
  {
   "cell_type": "code",
   "execution_count": 2,
   "metadata": {},
   "outputs": [],
   "source": [
    "# Define function to read file\n",
    "def unpickle(file):\n",
    "    with open(file, 'rb') as f:\n",
    "        dict_val = pickle.load(f, encoding=\"latin1\")\n",
    "    return dict_val\n"
   ]
  },
  {
   "cell_type": "code",
   "execution_count": 3,
   "metadata": {},
   "outputs": [],
   "source": [
    "# Define accuracy function\n",
    "def class_acc(x, y):\n",
    "    \"\"\"\n",
    "    Find accuracy percentage of given predicted and true labels.\n",
    "    Parameters\n",
    "    ----------\n",
    "    x (ndarray): True label\n",
    "    y (ndarray): Predicted label\n",
    "    Return\n",
    "    ------\n",
    "    accuracy: Accuracy percentage\n",
    "    \"\"\"\n",
    "\n",
    "    if len(x) == len(y):\n",
    "        accuracy = (np.sum(x == y) / len(x)) * 100\n",
    "        return np.round(accuracy, decimals=2)\n",
    "    else:\n",
    "        print('Predicted and Ground truth must have same length')\n"
   ]
  },
  {
   "cell_type": "code",
   "execution_count": 4,
   "metadata": {},
   "outputs": [],
   "source": [
    "# Define random classifier function\n",
    "def cifar10_classifier_random(x, label):\n",
    "    \"\"\"\n",
    "    parameters:\n",
    "    ----------\n",
    "    x (ndarray): Test dataset\n",
    "    label(int): No. of labels/Class\n",
    "    Return:\n",
    "    --------\n",
    "    labels (1d array): Predicted labels\n",
    "    \"\"\"\n",
    "    labels = np.array(range(label))  # classes\n",
    "\n",
    "    # Random guess with uniform distribution of each class\n",
    "    random_labels = np.random.choice(labels, len(x))\n",
    "    return random_labels\n"
   ]
  },
  {
   "cell_type": "code",
   "execution_count": 5,
   "metadata": {},
   "outputs": [],
   "source": [
    "# Define class for calculating distance metric\n",
    "class DistanceMetric:\n",
    "    \"\"\"\n",
    "    Calculate distance metrics: 1.Euclidean(L2) and 2.Manhattan(L1)\n",
    "    Parameter:\n",
    "     x (nd array):  vector/matrix\n",
    "     y (nd array): vector/matrix\n",
    "\n",
    "    Return:\n",
    "     distance (nd array):  Euclidean or Manhattan distance\n",
    "    \"\"\"\n",
    "\n",
    "    # Euclidean distance(L2)\n",
    "    def euclidean_distance(self, x, y):\n",
    "\n",
    "        # vector to vector(1d to 1d)\n",
    "        if x.ndim == 1 and y.ndim == 1:\n",
    "            eud_dist = np.sum((x - y) ** 2)\n",
    "            return eud_dist  # 1d ouput\n",
    "\n",
    "        # matrix to matrix\n",
    "        elif x.ndim > 1 and y.ndim > 1:\n",
    "            if x.shape[0] == 1:  # Single data\n",
    "                eud_dist = np.sum(((x - y) ** 2), axis=1)\n",
    "                eud_dist = np.expand_dims(eud_dist, axis=0)  # Change to 2d\n",
    "                return eud_dist  # 2d ouput\n",
    "\n",
    "            else:\n",
    "                x = x[:, None]  # Change to 3d\n",
    "                eud_dist = np.sum(((x - y) ** 2), axis=2)\n",
    "                return eud_dist  # 2d ouput\n",
    "\n",
    "        # vector to matrix(1d to 2d)\n",
    "        else:\n",
    "            eud_dist = np.sum(((x - y) ** 2), axis=1)\n",
    "            return eud_dist  # 1d ouput\n",
    "\n",
    "    # Manhattan distance(L1)\n",
    "    def manhattan_dist(self, x, y):\n",
    "        # vector to vector(1d to 1d)\n",
    "        if x.ndim == 1 and y.ndim == 1:\n",
    "            man_dist = np.sum(np.abs(x - y))\n",
    "            return man_dist  # 1d ouput\n",
    "\n",
    "        # matrix to matrix(2d to 2d)\n",
    "        elif x.ndim > 1 and y.ndim > 1:\n",
    "            if x.shape[0] == 1:  # Single data\n",
    "                man_dist = np.sum(np.abs(x - y), axis=1)\n",
    "                man_dist = np.expand_dims(man_dist, axis=0)  # Change to 2d\n",
    "                return man_dist  # 2d output\n",
    "\n",
    "            else:\n",
    "                x = x[:, None]  # Change to 3d\n",
    "                print(x)\n",
    "                man_dist = np.sum(np.abs(x - y), axis=2)\n",
    "\n",
    "                return man_dist  # 2d output\n",
    "\n",
    "        # vector to matrix(1d to 2d)\n",
    "        else:\n",
    "            man_dist = np.sum(np.abs(x - y), axis=1)\n",
    "            return man_dist  # 1d ouput\n"
   ]
  },
  {
   "cell_type": "code",
   "execution_count": 7,
   "metadata": {},
   "outputs": [],
   "source": [
    "#Define K-Nearest Neighbors Classifier\n",
    "class KnnClassifier:\n",
    "    \"\"\"K-Nearest Neighbors Classifier\"\"\"\n",
    "\n",
    "    def __init__(self, metric='euclidean', k=1):\n",
    "        self.k = k\n",
    "        self.metric = metric\n",
    "\n",
    "    # Fit data for training\n",
    "    def fit(self, x_train, y_train):\n",
    "        self.x_train = x_train\n",
    "        self.y_train = y_train\n",
    "\n",
    "    # Prediction\n",
    "    def prediction(self, x_test):\n",
    "\n",
    "        # Change to 2d\n",
    "        if x_test.ndim == 1:\n",
    "            x_test = np.expand_dims(x_test, axis=0)\n",
    "\n",
    "        predicted_label = np.zeros(len(x_test), dtype=int)  # store prediction classes\n",
    "\n",
    "        # loop through each test data\n",
    "        for i, test in enumerate(x_test):\n",
    "            # Distance Metric\n",
    "            if self.metric == 'euclidean':\n",
    "                dist = DistanceMetric.euclidean_distance(self, test, self.x_train)  # Distance\n",
    "            else:\n",
    "                dist = DistanceMetric.manhattan_dist(self, test, self.x_train)  # Distance\n",
    "\n",
    "            k_index = np.argsort(dist)[:self.k]  # index of k-nearest neighbors\n",
    "            k_neighbors = self.y_train[k_index]  # k-nearest neighbors\n",
    "            hig_count_neighbor = stats.mode(k_neighbors).mode  # get neighbors with max count\n",
    "            predicted_label[i] = hig_count_neighbor\n",
    "\n",
    "        return predicted_label"
   ]
  },
  {
   "cell_type": "code",
   "execution_count": 8,
   "metadata": {},
   "outputs": [
    {
     "name": "stdout",
     "output_type": "stream",
     "text": [
      "Test data shape:  (10000, 3072)\n",
      "Test Labels shape:  (10000,)\n",
      "\n",
      "Train data shape:  (50000, 3072)\n",
      "Train Labels shape:  (50000,)\n",
      "\n"
     ]
    },
    {
     "data": {
      "image/png": "[encoded data removed]",
      "text/plain": [
       "<Figure size 432x288 with 1 Axes>"
      ]
     },
     "metadata": {
      "needs_background": "light"
     },
     "output_type": "display_data"
    },
    {
     "data": {
      "image/png": "[encoded data removed]",
      "text/plain": [
       "<Figure size 432x288 with 1 Axes>"
      ]
     },
     "metadata": {
      "needs_background": "light"
     },
     "output_type": "display_data"
    },
    {
     "data": {
      "image/png": "[encoded data removed]",
      "text/plain": [
       "<Figure size 432x288 with 1 Axes>"
      ]
     },
     "metadata": {
      "needs_background": "light"
     },
     "output_type": "display_data"
    },
    {
     "data": {
      "image/png": "[encoded data removed]",
      "text/plain": [
       "<Figure size 432x288 with 1 Axes>"
      ]
     },
     "metadata": {
      "needs_background": "light"
     },
     "output_type": "display_data"
    },
    {
     "data": {
      "image/png": "[encoded data removed]",
      "text/plain": [
       "<Figure size 432x288 with 1 Axes>"
      ]
     },
     "metadata": {
      "needs_background": "light"
     },
     "output_type": "display_data"
    },
    {
     "name": "stdout",
     "output_type": "stream",
     "text": [
      "Random Classifier Accuracy: 9.95% \n",
      "\n",
      "classifier accuracy:  38.59%\n",
      "Time taken:  33024 seconds\n",
      "\n",
      "Accuracy:  42.26%\n",
      "Time taken:  2144 seconds\n"
     ]
    }
   ],
   "source": [
    "\n",
    "if __name__ == \"__main__\":\n",
    "\n",
    "    np.random.seed(100)  # seed random generator\n",
    "\n",
    "    # Test data\n",
    "    test_datadict = unpickle('../cifar-10-batches/test_batch')  # change file path\n",
    "    test_data = test_datadict['data']  # test data\n",
    "    test_data = test_data.astype(np.int16)  # change data type\n",
    "    test_labels = np.array(test_datadict['labels'], dtype=np.int16)  # test labels\n",
    "    print('Test data shape:  {}'.format(test_data.shape))\n",
    "    print('Test Labels shape:  {}\\n'.format(test_labels.shape))\n",
    "\n",
    "    # Train dataset\n",
    "    data_batchs = glob.glob('../cifar-10-batches/data_batch*')  # list of data_batches' paths\n",
    "    train_data = np.empty(shape=[0, 3072], dtype=np.int16)  # empty array for train data\n",
    "    train_labels = np.empty(shape=[0], dtype=np.int16)  # empty array for train labels\n",
    "\n",
    "    # Concatenate all Train data_batches\n",
    "    for batch in data_batchs:\n",
    "        train_datadict = unpickle(batch)  # unpickle file\n",
    "        data_batch = train_datadict['data']  # batch data\n",
    "        train_data = np.vstack((train_data, data_batch))  # stack batches data\n",
    "\n",
    "        batch_labels = np.array(train_datadict['labels'])  # batch labels\n",
    "        train_labels = np.hstack((train_labels, batch_labels))  # stack batches labels\n",
    "\n",
    "    print('Train data shape:  {}'.format(train_data.shape))\n",
    "    print('Train Labels shape:  {}\\n'.format(train_labels.shape))\n",
    "\n",
    "    # Display random some images\n",
    "    labeldict = unpickle('../cifar-10-batches/batches.meta')  # change file path\n",
    "    label_names = labeldict[\"label_names\"]\n",
    "\n",
    "    X_test = test_data.reshape(10000, 3, 32, 32).transpose(0, 2, 3, 1).astype(\"uint8\")\n",
    "    Y_test = np.array(test_labels)\n",
    "\n",
    "    for i in range(X_test.shape[0]):\n",
    "        # Show some images randomly\n",
    "        if random() > 0.999:\n",
    "            plt.figure(1);\n",
    "            plt.clf()\n",
    "            plt.imshow(X_test[i])\n",
    "            plt.title(f\"Image {i} label={label_names[Y_test[i]]} num ({Y_test[i]}))\")\n",
    "            plt.pause(1)\n",
    "    \n",
    "    # Random classifier\n",
    "    random_labels = cifar10_classifier_random(test_data, 10)\n",
    "    random_accu = class_acc(test_labels, random_labels)  # accuracy fucntion\n",
    "    print('Random Classifier Accuracy: {}% \\n'.format(random_accu))\n",
    "   \n",
    "    \n",
    "    # Normalize data\n",
    "    test_data = test_data / 255.0\n",
    "    train_data = train_data / 255.0\n",
    "    \n",
    "    k = 1  # hyper-parameter for k-NN (You can test with different k-values)\n",
    "    start_time = time.time() # start time\n",
    "    knn = KnnClassifier(k)\n",
    "    knn.fit(train_data, train_labels)\n",
    "    pred_label = knn.prediction(test_data)\n",
    "    accu_kNN = class_acc(test_labels, pred_label)  # accuracy function\n",
    "    print(\"classifier accuracy:  {}%\".format(accu_kNN))\n",
    "    print(\"Time taken:  {} seconds\".format(round(time.time() - start_time)))\n",
    "\n",
    "\n",
    "\n",
    "\n",
    "    ''' == KNN Algorithm using Scipy Packages === '''\n",
    "    test_data = zscore(test_data, axis=1)  # standardized data\n",
    "    train_data = zscore(train_data, axis=1)\n",
    "    start_time = time.time()  # start time\n",
    "    eudis = distance.cdist(test_data, train_data, 'euclidean')  # Distance\n",
    "    k_index = np.argsort(eudis)[:, :k]  # index for k-Nearst Neigbors\n",
    "    k_neighbors = train_labels[k_index] # k-nearest neighbors\n",
    "\n",
    "    pred_labels = np.zeros(len(test_labels), dtype=np.int16)  # store prediction\n",
    "    for i, neighbors in enumerate(k_neighbors):\n",
    "        hig_count_neig = stats.mode(neighbors).mode  # get neighbors with max count\n",
    "        pred_labels[i] = hig_count_neig\n",
    "\n",
    "    accu_kNN = class_acc(test_labels, pred_labels)  # accuracy\n",
    "    print('\\nAccuracy:  {}%'.format(accu_kNN))\n",
    "    print(\"Time taken:  {} seconds\".format(round(time.time() - start_time)))\n"
   ]
  },
  {
   "cell_type": "code",
   "execution_count": null,
   "metadata": {},
   "outputs": [],
   "source": []
  }
 ],
 "metadata": {
  "kernelspec": {
   "display_name": "Python 3",
   "language": "python",
   "name": "python3"
  },
  "language_info": {
   "codemirror_mode": {
    "name": "ipython",
    "version": 3
   },
   "file_extension": ".py",
   "mimetype": "text/x-python",
   "name": "python",
   "nbconvert_exporter": "python",
   "pygments_lexer": "ipython3",
   "version": "3.8.3"
  }
 },
 "nbformat": 4,
 "nbformat_minor": 4
}
